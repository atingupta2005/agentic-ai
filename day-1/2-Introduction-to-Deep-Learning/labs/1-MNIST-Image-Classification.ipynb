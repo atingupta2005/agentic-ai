{
 "cells": [
  {
   "cell_type": "markdown",
   "id": "7f1ee15c",
   "metadata": {},
   "source": [
    "## 🧠 Module 1: MNIST Image Classification with a Neural Network\n",
    "\n",
    "### 📦 Objective:\n",
    "Train a basic neural network to recognize handwritten digits (0–9) from grayscale images in the MNIST dataset.\n",
    "\n",
    "---\n",
    "\n",
    "### 🔧 Step-by-Step Breakdown\n",
    "\n",
    "#### 🔹 Step 1: Import Libraries"
   ]
  },
  {
   "cell_type": "code",
   "execution_count": null,
   "id": "c246cf31",
   "metadata": {},
   "outputs": [],
   "source": [
    "import tensorflow as tf\n",
    "from tensorflow.keras.models import Sequential\n",
    "from tensorflow.keras.layers import Dense, Flatten\n",
    "from tensorflow.keras.datasets import mnist\n",
    "from tensorflow.keras.utils import to_categorical\n",
    "import matplotlib.pyplot as plt"
   ]
  },
  {
   "cell_type": "markdown",
   "id": "8b6f7abf",
   "metadata": {},
   "source": [
    "---\n",
    "\n",
    "#### 🔹 Step 2: Load and Preprocess Data"
   ]
  },
  {
   "cell_type": "code",
   "execution_count": null,
   "id": "d56839e3",
   "metadata": {},
   "outputs": [],
   "source": [
    "(x_train, y_train), (x_test, y_test) = mnist.load_data()\n",
    "\n",
    "# Normalize pixel values\n",
    "x_train, x_test = x_train / 255.0, x_test / 255.0\n",
    "\n",
    "# One-hot encode labels\n",
    "y_train = to_categorical(y_train)\n",
    "y_test = to_categorical(y_test)"
   ]
  },
  {
   "cell_type": "markdown",
   "id": "6c008dee",
   "metadata": {},
   "source": [
    "---\n",
    "\n",
    "#### 🔹 Step 3: Visualize Sample Images"
   ]
  },
  {
   "cell_type": "code",
   "execution_count": null,
   "id": "a4040bb2",
   "metadata": {},
   "outputs": [],
   "source": [
    "plt.figure(figsize=(10, 4))\n",
    "for i in range(10):\n",
    "    plt.subplot(2, 5, i+1)\n",
    "    plt.imshow(x_train[i], cmap='gray')\n",
    "    plt.title(f\"Label: {y_train[i].argmax()}\")\n",
    "    plt.axis('off')\n",
    "plt.tight_layout()\n",
    "plt.show()"
   ]
  },
  {
   "cell_type": "markdown",
   "id": "4bcad957",
   "metadata": {},
   "source": [
    "---\n",
    "\n",
    "#### 🔹 Step 4: Build the Neural Network Model"
   ]
  },
  {
   "cell_type": "code",
   "execution_count": null,
   "id": "a8caf7f8",
   "metadata": {},
   "outputs": [],
   "source": [
    "model = Sequential([\n",
    "    Flatten(input_shape=(28, 28)),\n",
    "    Dense(128, activation='relu'),\n",
    "    Dense(64, activation='relu'),\n",
    "    Dense(10, activation='softmax')\n",
    "])"
   ]
  },
  {
   "cell_type": "markdown",
   "id": "b220e1a1",
   "metadata": {},
   "source": [
    "---\n",
    "\n",
    "#### 🔹 Step 5: Compile the Model"
   ]
  },
  {
   "cell_type": "code",
   "execution_count": null,
   "id": "66e43d39",
   "metadata": {},
   "outputs": [],
   "source": [
    "model.compile(optimizer='adam',\n",
    "              loss='categorical_crossentropy',\n",
    "              metrics=['accuracy'])"
   ]
  },
  {
   "cell_type": "markdown",
   "id": "4bfa5d01",
   "metadata": {},
   "source": [
    "---\n",
    "\n",
    "#### 🔹 Step 6: Train the Model"
   ]
  },
  {
   "cell_type": "code",
   "execution_count": null,
   "id": "84ce6eb1",
   "metadata": {},
   "outputs": [],
   "source": [
    "model.fit(x_train, y_train, epochs=5, validation_split=0.2)"
   ]
  },
  {
   "cell_type": "markdown",
   "id": "6b2b75a3",
   "metadata": {},
   "source": [
    "---\n",
    "\n",
    "#### 🔹 Step 7: Evaluate Performance"
   ]
  },
  {
   "cell_type": "code",
   "execution_count": null,
   "id": "c07a0dd4",
   "metadata": {},
   "outputs": [],
   "source": [
    "loss, accuracy = model.evaluate(x_test, y_test)\n",
    "print(f\"Test Accuracy: {accuracy:.2f}\")"
   ]
  },
  {
   "cell_type": "markdown",
   "id": "bced2842",
   "metadata": {},
   "source": [
    "---\n",
    "\n",
    "## 🔍 Module 2: Visualizing Model Decisions\n",
    "\n",
    "Let’s interpret how the network sees and processes digit images.\n",
    "\n",
    "---\n",
    "\n",
    "### 🔹 Step 1: Visualizing Learned Weights"
   ]
  },
  {
   "cell_type": "code",
   "execution_count": null,
   "id": "fd21b045",
   "metadata": {},
   "outputs": [],
   "source": [
    "weights = model.layers[1].get_weights()[0]  # First Dense layer weights\n",
    "\n",
    "# Display weights for first 10 neurons\n",
    "plt.figure(figsize=(12, 6))\n",
    "for i in range(10):\n",
    "    plt.subplot(2, 5, i+1)\n",
    "    plt.imshow(weights[:, i].reshape(28, 28), cmap='viridis')\n",
    "    plt.title(f\"Neuron {i}\")\n",
    "    plt.axis('off')\n",
    "plt.tight_layout()\n",
    "plt.show()"
   ]
  },
  {
   "cell_type": "markdown",
   "id": "cdeeb1e3",
   "metadata": {},
   "source": [
    "> 💬 **What This Shows:** Each neuron learns to respond to certain pixel patterns—almost like a filter or shape detector.\n",
    "\n",
    "---\n",
    "\n",
    "### 🔹 Step 2: Predict and Visualize Model Confidence"
   ]
  },
  {
   "cell_type": "code",
   "execution_count": null,
   "id": "36a8fec3",
   "metadata": {},
   "outputs": [],
   "source": [
    "import numpy as np\n",
    "\n",
    "# Select a test image\n",
    "test_idx = 42\n",
    "image = x_test[test_idx].reshape(1, 28, 28)\n",
    "prediction = model.predict(image)[0]\n",
    "\n",
    "# Display prediction scores\n",
    "plt.bar(range(10), prediction)\n",
    "plt.title(\"Model Confidence Scores\")\n",
    "plt.xlabel(\"Digit\")\n",
    "plt.ylabel(\"Probability\")\n",
    "plt.show()\n",
    "\n",
    "# Display the actual image\n",
    "plt.imshow(x_test[test_idx], cmap='gray')\n",
    "plt.title(f\"True Label: {y_test[test_idx].argmax()}\")\n",
    "plt.axis('off')\n",
    "plt.show()"
   ]
  },
  {
   "cell_type": "markdown",
   "id": "e50f3986",
   "metadata": {},
   "source": [
    "> 💬 **Takeaway:** This shows not only what the model predicted, but how confident it is about each digit.\n",
    "\n",
    "---\n",
    "\n",
    "### 🔹 Step 3: Visualize Misclassifications"
   ]
  },
  {
   "cell_type": "code",
   "execution_count": null,
   "id": "96863d0b",
   "metadata": {},
   "outputs": [],
   "source": [
    "preds = model.predict(x_test)\n",
    "pred_labels = preds.argmax(axis=1)\n",
    "true_labels = y_test.argmax(axis=1)\n",
    "\n",
    "# Find incorrect predictions\n",
    "errors = np.where(pred_labels != true_labels)[0]\n",
    "\n",
    "# Visualize a few\n",
    "plt.figure(figsize=(10, 4))\n",
    "for i in range(5):\n",
    "    idx = errors[i]\n",
    "    plt.subplot(1, 5, i+1)\n",
    "    plt.imshow(x_test[idx], cmap='gray')\n",
    "    plt.title(f\"Pred: {pred_labels[idx]}, Truth: {true_labels[idx]}\")\n",
    "    plt.axis('off')\n",
    "plt.tight_layout()\n",
    "plt.show()"
   ]
  },
  {
   "cell_type": "markdown",
   "id": "e133578f",
   "metadata": {},
   "source": [
    "> 💬 **Insight:** Error analysis helps uncover biases or weak spots in model learning—great for classroom discussion.\n",
    "\n",
    "---\n"
   ]
  },
  {
   "cell_type": "markdown",
   "id": "a48e4927",
   "metadata": {},
   "source": [
    "## 🔍 Model Introspection — Understanding Decisions  \n",
    "\n",
    "---\n",
    "\n",
    "### 🔹 Step 1: Visualizing Weights from First Dense Layer"
   ]
  },
  {
   "cell_type": "code",
   "execution_count": null,
   "id": "ccf56d7f",
   "metadata": {},
   "outputs": [],
   "source": [
    "weights = model.layers[1].get_weights()[0]  # Weight matrix of first Dense layer\n",
    "\n",
    "# Display 10 learned filters\n",
    "plt.figure(figsize=(12, 6))\n",
    "for i in range(10):\n",
    "    plt.subplot(2, 5, i+1)\n",
    "    plt.imshow(weights[:, i].reshape(28, 28), cmap='viridis')\n",
    "    plt.title(f\"Neuron {i}\")\n",
    "    plt.axis('off')\n",
    "plt.tight_layout()\n",
    "plt.show()"
   ]
  },
  {
   "cell_type": "markdown",
   "id": "0cdd0926",
   "metadata": {},
   "source": [
    "💬 *Ask Learners:* What features do these neurons seem to focus on? Edges? Center strokes?\n",
    "\n",
    "---\n",
    "\n",
    "### 🔹 Step 2: Predict + Confidence Visualizer"
   ]
  },
  {
   "cell_type": "code",
   "execution_count": null,
   "id": "a91f7edf",
   "metadata": {},
   "outputs": [],
   "source": [
    "import numpy as np\n",
    "\n",
    "# Choose a test image\n",
    "img_idx = 42\n",
    "image = x_test[img_idx].reshape(1, 28, 28)\n",
    "\n",
    "# Predict\n",
    "prediction = model.predict(image)[0]\n",
    "\n",
    "# Confidence bar chart\n",
    "plt.bar(range(10), prediction)\n",
    "plt.title(\"Prediction Confidence\")\n",
    "plt.xlabel(\"Digit\")\n",
    "plt.ylabel(\"Probability\")\n",
    "plt.show()\n",
    "\n",
    "# Actual image\n",
    "plt.imshow(x_test[img_idx], cmap='gray')\n",
    "plt.title(f\"True Label: {y_test[img_idx].argmax()}\")\n",
    "plt.axis('off')\n",
    "plt.show()"
   ]
  },
  {
   "cell_type": "markdown",
   "id": "651fadfa",
   "metadata": {},
   "source": [
    "---\n",
    "\n",
    "### 🔹 Step 3: Analyze Misclassified Images"
   ]
  },
  {
   "cell_type": "code",
   "execution_count": null,
   "id": "5273d3ad",
   "metadata": {},
   "outputs": [],
   "source": [
    "preds = model.predict(x_test)\n",
    "pred_labels = preds.argmax(axis=1)\n",
    "true_labels = y_test.argmax(axis=1)\n",
    "\n",
    "# Find where model got it wrong\n",
    "errors = np.where(pred_labels != true_labels)[0]\n",
    "\n",
    "# Show a few\n",
    "plt.figure(figsize=(10, 4))\n",
    "for i in range(5):\n",
    "    idx = errors[i]\n",
    "    plt.subplot(1, 5, i+1)\n",
    "    plt.imshow(x_test[idx], cmap='gray')\n",
    "    plt.title(f\"Pred: {pred_labels[idx]}, Truth: {true_labels[idx]}\")\n",
    "    plt.axis('off')\n",
    "plt.tight_layout()\n",
    "plt.show()"
   ]
  },
  {
   "cell_type": "markdown",
   "id": "c406a6f1",
   "metadata": {},
   "source": [
    "---"
   ]
  }
 ],
 "metadata": {
  "jupytext": {
   "cell_metadata_filter": "-all",
   "main_language": "python",
   "notebook_metadata_filter": "-all"
  },
  "language_info": {
   "name": "python"
  }
 },
 "nbformat": 4,
 "nbformat_minor": 5
}
