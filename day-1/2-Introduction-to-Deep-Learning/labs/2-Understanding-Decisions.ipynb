{
 "cells": [
  {
   "cell_type": "markdown",
   "id": "36c5a696",
   "metadata": {},
   "source": [
    "# 🔍 Model Introspection — Understanding Decisions  \n",
    "\n",
    "---\n",
    "\n",
    "### 🔹 Step 1: Visualizing Weights from First Dense Layer"
   ]
  },
  {
   "cell_type": "code",
   "execution_count": null,
   "id": "e3f02b00",
   "metadata": {},
   "outputs": [],
   "source": [
    "weights = model.layers[1].get_weights()[0]  # Weight matrix of first Dense layer\n",
    "\n",
    "# Display 10 learned filters\n",
    "plt.figure(figsize=(12, 6))\n",
    "for i in range(10):\n",
    "    plt.subplot(2, 5, i+1)\n",
    "    plt.imshow(weights[:, i].reshape(28, 28), cmap='viridis')\n",
    "    plt.title(f\"Neuron {i}\")\n",
    "    plt.axis('off')\n",
    "plt.tight_layout()\n",
    "plt.show()"
   ]
  },
  {
   "cell_type": "markdown",
   "id": "ec8cae81",
   "metadata": {},
   "source": [
    "💬 *Ask Learners:* What features do these neurons seem to focus on? Edges? Center strokes?\n",
    "\n",
    "---\n",
    "\n",
    "### 🔹 Step 2: Predict + Confidence Visualizer"
   ]
  },
  {
   "cell_type": "code",
   "execution_count": null,
   "id": "e6b8bd2a",
   "metadata": {},
   "outputs": [],
   "source": [
    "import numpy as np\n",
    "\n",
    "# Choose a test image\n",
    "img_idx = 42\n",
    "image = x_test[img_idx].reshape(1, 28, 28)\n",
    "\n",
    "# Predict\n",
    "prediction = model.predict(image)[0]\n",
    "\n",
    "# Confidence bar chart\n",
    "plt.bar(range(10), prediction)\n",
    "plt.title(\"Prediction Confidence\")\n",
    "plt.xlabel(\"Digit\")\n",
    "plt.ylabel(\"Probability\")\n",
    "plt.show()\n",
    "\n",
    "# Actual image\n",
    "plt.imshow(x_test[img_idx], cmap='gray')\n",
    "plt.title(f\"True Label: {y_test[img_idx].argmax()}\")\n",
    "plt.axis('off')\n",
    "plt.show()"
   ]
  },
  {
   "cell_type": "markdown",
   "id": "1df34e7c",
   "metadata": {},
   "source": [
    "---\n",
    "\n",
    "### 🔹 Step 3: Analyze Misclassified Images"
   ]
  },
  {
   "cell_type": "code",
   "execution_count": null,
   "id": "50cc4905",
   "metadata": {},
   "outputs": [],
   "source": [
    "preds = model.predict(x_test)\n",
    "pred_labels = preds.argmax(axis=1)\n",
    "true_labels = y_test.argmax(axis=1)\n",
    "\n",
    "# Find where model got it wrong\n",
    "errors = np.where(pred_labels != true_labels)[0]\n",
    "\n",
    "# Show a few\n",
    "plt.figure(figsize=(10, 4))\n",
    "for i in range(5):\n",
    "    idx = errors[i]\n",
    "    plt.subplot(1, 5, i+1)\n",
    "    plt.imshow(x_test[idx], cmap='gray')\n",
    "    plt.title(f\"Pred: {pred_labels[idx]}, Truth: {true_labels[idx]}\")\n",
    "    plt.axis('off')\n",
    "plt.tight_layout()\n",
    "plt.show()"
   ]
  },
  {
   "cell_type": "markdown",
   "id": "2e443b34",
   "metadata": {},
   "source": [
    "---"
   ]
  }
 ],
 "metadata": {
  "jupytext": {
   "cell_metadata_filter": "-all",
   "main_language": "python",
   "notebook_metadata_filter": "-all"
  }
 },
 "nbformat": 4,
 "nbformat_minor": 5
}
