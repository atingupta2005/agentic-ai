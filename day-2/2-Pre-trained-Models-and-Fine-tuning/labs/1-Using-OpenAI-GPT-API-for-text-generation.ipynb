{
 "cells": [
  {
   "cell_type": "markdown",
   "id": "84cb31dd",
   "metadata": {},
   "source": [
    "# 🛠 Practical Hands-On Guide: Pre-trained Models and Fine-Tuning\n",
    "\n",
    "This guide walks you through two hands-on labs:  \n",
    "1. Using OpenAI’s GPT API for text generation  \n",
    "2. Fine-tuning a BERT model for sentiment analysis on a real-world dataset  \n",
    "\n",
    "You can run both labs in a local Python environment or in Google Colab.\n",
    "\n",
    "---\n",
    "\n",
    "## Part 1: Text Generation with OpenAI’s GPT API\n",
    "\n",
    "### Prerequisites\n",
    "\n",
    "- Python 3.7+  \n",
    "- An OpenAI API key (set as environment variable `OPENAI_API_KEY`)  \n",
    "- Install the `openai` library:  \n",
    "  ```bash\n",
    "  pip install openai\n",
    "  ```\n",
    "\n",
    "---\n",
    "\n",
    "### 1. Configure Your Environment\n",
    "\n",
    "1. Export your API key in the terminal (Linux/macOS):  \n",
    "   ```bash\n",
    "   export OPENAI_API_KEY=\"your_api_key_here\"\n",
    "   ```  \n",
    "   Or on Windows PowerShell:  \n",
    "   ```powershell\n",
    "   setx OPENAI_API_KEY \"your_api_key_here\"\n",
    "   ```\n",
    "\n",
    "2. Verify your key is available in Python:  \n",
    "   ```python\n",
    "   import os\n",
    "   assert \"OPENAI_API_KEY\" in os.environ\n",
    "   ```\n",
    "\n",
    "---\n",
    "\n",
    "### 2. Basic Text Generation Script\n",
    "\n",
    "Create a file `generate_text.py` with the following code:"
   ]
  },
  {
   "cell_type": "code",
   "execution_count": null,
   "id": "7cb82261",
   "metadata": {},
   "outputs": [],
   "source": [
    "import os\n",
    "import openai\n",
    "\n",
    "def generate_text(prompt: str, \n",
    "                  model: str = \"text-davinci-003\", \n",
    "                  max_tokens: int = 100, \n",
    "                  temperature: float = 0.7,\n",
    "                  top_p: float = 1.0,\n",
    "                  n_samples: int = 1):\n",
    "    openai.api_key = os.getenv(\"OPENAI_API_KEY\")\n",
    "    response = openai.Completion.create(\n",
    "        model=model,\n",
    "        prompt=prompt,\n",
    "        max_tokens=max_tokens,\n",
    "        temperature=temperature,\n",
    "        top_p=top_p,\n",
    "        n=n_samples\n",
    "    )\n",
    "    return [choice.text.strip() for choice in response.choices]\n",
    "\n",
    "if __name__ == \"__main__\":\n",
    "    prompt = \"Write a short poem about a sunrise over the mountains.\"\n",
    "    outputs = generate_text(prompt, max_tokens=50, temperature=0.8, n_samples=2)\n",
    "    for i, text in enumerate(outputs, 1):\n",
    "        print(f\"\\n=== Sample {i} ===\\n{text}\")"
   ]
  },
  {
   "cell_type": "markdown",
   "id": "d17eb827",
   "metadata": {
    "lines_to_next_cell": 0
   },
   "source": [
    "Run it:"
   ]
  },
  {
   "cell_type": "code",
   "execution_count": null,
   "id": "739eb57f",
   "metadata": {},
   "outputs": [],
   "source": [
    "%%bash\n",
    "python generate_text.py"
   ]
  },
  {
   "cell_type": "markdown",
   "id": "7e7f6d1f",
   "metadata": {},
   "source": [
    "---\n",
    "\n",
    "### 3. Experimenting with Parameters\n",
    "\n",
    "- **`temperature`**: Higher values (0.8–1.0) → more creative outputs; lower (0.2–0.5) → more focused.  \n",
    "- **`max_tokens`**: Limits response length.  \n",
    "- **`top_p`** (nucleus sampling): Restricts vocabulary to cumulative probability _p_.  \n",
    "- **`n`**: Number of samples to generate per prompt.\n",
    "\n",
    "> 💡 Try generating three variations of a product description by setting `n_samples=3` and compare diversity.\n",
    "\n",
    "---\n",
    "\n",
    "### 4. Advanced: Chat Completions (GPT-3.5 / GPT-4)\n",
    "\n",
    "OpenAI’s chat endpoint uses a list of messages:"
   ]
  },
  {
   "cell_type": "code",
   "execution_count": null,
   "id": "1a37b2be",
   "metadata": {},
   "outputs": [],
   "source": [
    "from openai import ChatCompletion\n",
    "\n",
    "chat = ChatCompletion(api_key=os.getenv(\"OPENAI_API_KEY\"))\n",
    "response = chat.create(\n",
    "    model=\"gpt-3.5-turbo\",\n",
    "    messages=[\n",
    "        {\"role\": \"system\", \"content\": \"You are a helpful assistant.\"},\n",
    "        {\"role\": \"user\", \"content\": \"Explain the benefits of electric vehicles.\"}\n",
    "    ],\n",
    "    max_tokens=150,\n",
    "    temperature=0.6\n",
    ")\n",
    "print(response.choices[0].message.content)"
   ]
  },
  {
   "cell_type": "markdown",
   "id": "869d6082",
   "metadata": {},
   "source": [
    "> 🔍 Notice how you can steer tone and style with the “system” message.\n",
    "\n",
    "---"
   ]
  }
 ],
 "metadata": {
  "jupytext": {
   "cell_metadata_filter": "-all",
   "main_language": "python",
   "notebook_metadata_filter": "-all"
  }
 },
 "nbformat": 4,
 "nbformat_minor": 5
}
