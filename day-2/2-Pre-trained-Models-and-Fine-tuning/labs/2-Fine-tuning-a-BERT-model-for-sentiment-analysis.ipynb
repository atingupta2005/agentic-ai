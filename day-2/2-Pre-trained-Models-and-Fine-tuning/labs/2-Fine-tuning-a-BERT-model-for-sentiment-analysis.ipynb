{
 "cells": [
  {
   "cell_type": "markdown",
   "id": "810c9dfe",
   "metadata": {},
   "source": [
    "## Fine-Tuning BERT for Sentiment Analysis\n",
    "\n",
    "### Prerequisites\n",
    "\n",
    "- Python 3.7+  \n",
    "- PyTorch or TensorFlow backend  \n",
    "- Install required libraries:  \n",
    "  ```bash\n",
    "  pip install transformers datasets scikit-learn torch\n",
    "  ```\n",
    "\n",
    "---\n",
    "\n",
    "### 1. Choose and Load a Real-World Dataset\n",
    "\n",
    "We’ll use the IMDb movie-review dataset via the 🤗 Datasets library:"
   ]
  },
  {
   "cell_type": "code",
   "execution_count": null,
   "id": "a0ca5c35",
   "metadata": {},
   "outputs": [],
   "source": [
    "from datasets import load_dataset\n",
    "\n",
    "dataset = load_dataset(\"imdb\")\n",
    "train_ds, test_ds = dataset[\"train\"], dataset[\"test\"]"
   ]
  },
  {
   "cell_type": "markdown",
   "id": "0780f215",
   "metadata": {},
   "source": [
    "---\n",
    "\n",
    "### 2. Tokenize the Text\n",
    "\n",
    "Use BERT’s tokenizer with a maximum sequence length of 128:"
   ]
  },
  {
   "cell_type": "code",
   "execution_count": null,
   "id": "8da0188c",
   "metadata": {},
   "outputs": [],
   "source": [
    "from transformers import BertTokenizerFast\n",
    "\n",
    "tokenizer = BertTokenizerFast.from_pretrained(\"bert-base-uncased\")\n",
    "\n",
    "def tokenize_batch(batch):\n",
    "    return tokenizer(\n",
    "        batch[\"text\"], \n",
    "        padding=\"max_length\", \n",
    "        truncation=True, \n",
    "        max_length=128\n",
    "    )\n",
    "\n",
    "train_ds = train_ds.map(tokenize_batch, batched=True)\n",
    "test_ds  = test_ds.map(tokenize_batch, batched=True)\n",
    "\n",
    "# Set the format for PyTorch\n",
    "train_ds.set_format(\"torch\", columns=[\"input_ids\", \"attention_mask\", \"label\"])\n",
    "test_ds.set_format(\"torch\",  columns=[\"input_ids\", \"attention_mask\", \"label\"])"
   ]
  },
  {
   "cell_type": "markdown",
   "id": "25179d6e",
   "metadata": {},
   "source": [
    "---\n",
    "\n",
    "### 3. Define the Model and Training Arguments\n",
    "\n",
    "We’ll use `BertForSequenceClassification` and the Hugging Face `Trainer`:"
   ]
  },
  {
   "cell_type": "code",
   "execution_count": null,
   "id": "bbce9b73",
   "metadata": {},
   "outputs": [],
   "source": [
    "import torch\n",
    "from transformers import BertForSequenceClassification, Trainer, TrainingArguments\n",
    "\n",
    "model = BertForSequenceClassification.from_pretrained(\n",
    "    \"bert-base-uncased\", \n",
    "    num_labels=2\n",
    ")\n",
    "\n",
    "training_args = TrainingArguments(\n",
    "    output_dir=\"bert-finetuned-imdb\",\n",
    "    evaluation_strategy=\"epoch\",\n",
    "    learning_rate=2e-5,\n",
    "    per_device_train_batch_size=16,\n",
    "    per_device_eval_batch_size=32,\n",
    "    num_train_epochs=3,\n",
    "    weight_decay=0.01,\n",
    "    save_total_limit=2,\n",
    "    load_best_model_at_end=True\n",
    ")"
   ]
  },
  {
   "cell_type": "markdown",
   "id": "ad528b8a",
   "metadata": {},
   "source": [
    "---\n",
    "\n",
    "### 4. Define Metrics and Trainer"
   ]
  },
  {
   "cell_type": "code",
   "execution_count": null,
   "id": "01d659bf",
   "metadata": {},
   "outputs": [],
   "source": [
    "from sklearn.metrics import accuracy_score, precision_recall_fscore_support\n",
    "\n",
    "def compute_metrics(pred):\n",
    "    labels = pred.label_ids\n",
    "    preds  = pred.predictions.argmax(-1)\n",
    "    precision, recall, f1, _ = precision_recall_fscore_support(labels, preds, average=\"binary\")\n",
    "    acc = accuracy_score(labels, preds)\n",
    "    return {\"accuracy\": acc, \"f1\": f1, \"precision\": precision, \"recall\": recall}\n",
    "\n",
    "trainer = Trainer(\n",
    "    model=model,\n",
    "    args=training_args,\n",
    "    train_dataset=train_ds,\n",
    "    eval_dataset=test_ds,\n",
    "    compute_metrics=compute_metrics\n",
    ")"
   ]
  },
  {
   "cell_type": "markdown",
   "id": "ac21dab4",
   "metadata": {},
   "source": [
    "---\n",
    "\n",
    "### 5. Train and Evaluate"
   ]
  },
  {
   "cell_type": "code",
   "execution_count": null,
   "id": "e29a500c",
   "metadata": {},
   "outputs": [],
   "source": [
    "trainer.train()\n",
    "metrics = trainer.evaluate()\n",
    "print(metrics)"
   ]
  },
  {
   "cell_type": "markdown",
   "id": "06a67c5f",
   "metadata": {},
   "source": [
    "You’ll see epoch-wise metrics: accuracy, precision, recall, F1.\n",
    "\n",
    "---\n",
    "\n",
    "### 6. Inference on New Sentences\n",
    "\n",
    "Save and reload the best model, then run predictions:"
   ]
  },
  {
   "cell_type": "code",
   "execution_count": null,
   "id": "b1ee0c82",
   "metadata": {},
   "outputs": [],
   "source": [
    "model_path = \"bert-finetuned-imdb/checkpoint-best\"\n",
    "model = BertForSequenceClassification.from_pretrained(model_path)\n",
    "tokenizer = BertTokenizerFast.from_pretrained(\"bert-base-uncased\")\n",
    "\n",
    "def predict_sentiment(text):\n",
    "    inputs = tokenizer(text, return_tensors=\"pt\", truncation=True, padding=True, max_length=128)\n",
    "    outputs = model(**inputs)\n",
    "    probs   = torch.softmax(outputs.logits, dim=1)\n",
    "    label   = torch.argmax(probs).item()\n",
    "    return (\"negative\", \"positive\")[label], probs[0][label].item()\n",
    "\n",
    "for sample in [\n",
    "    \"I absolutely loved this movie—wonderful performances!\",\n",
    "    \"It was a total waste of time, so boring...\"\n",
    "]:\n",
    "    sentiment, confidence = predict_sentiment(sample)\n",
    "    print(f\"Text: {sample}\\nSentiment: {sentiment} (confidence {confidence:.2f})\\n\")"
   ]
  },
  {
   "cell_type": "markdown",
   "id": "430d978c",
   "metadata": {},
   "source": [
    "---"
   ]
  }
 ],
 "metadata": {
  "jupytext": {
   "cell_metadata_filter": "-all",
   "main_language": "python",
   "notebook_metadata_filter": "-all"
  }
 },
 "nbformat": 4,
 "nbformat_minor": 5
}
