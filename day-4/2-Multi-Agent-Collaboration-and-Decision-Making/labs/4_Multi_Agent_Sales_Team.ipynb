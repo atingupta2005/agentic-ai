{
 "cells": [
  {
   "cell_type": "markdown",
   "metadata": {},
   "source": [
    "# Lab: Building a Multi-Agent Sales Team with Tools and Handoffs\n",
    "\n",
    "In this advanced lab, we will use the OpenAI Agents SDK to construct a sophisticated, multi-agent system that automates the process of generating and sending cold sales outreach emails. \n",
    "\n",
    "This project will demonstrate several key agentic design patterns:\n",
    "1.  **Agent Specialization**: Creating multiple agents, each with a unique persona and task.\n",
    "2.  **Parallel Execution**: Running multiple agents simultaneously to generate diverse outputs.\n",
    "3.  **Evaluator Agent**: Using one agent to review and select the best output from others.\n",
    "4.  **Tools as Functions**: Converting a regular Python function into a tool that an agent can use.\n",
    "5.  **Agents as Tools**: Converting an entire agent into a tool for another agent to use.\n",
    "6.  **Handoffs**: Delegating a task from a manager agent to a subordinate agent to complete a workflow."
   ]
  },
  {
   "cell_type": "markdown",
   "metadata": {},
   "source": [
    "### Setup: SendGrid API for Sending Emails\n",
    "\n",
    "This lab uses the SendGrid service to send emails programmatically. You will need a free account and an API key.\n",
    "\n",
    "1.  **Create an Account**: Go to [SendGrid](https://sendgrid.com/) and sign up for a free account.\n",
    "2.  **Create an API Key**: In the SendGrid dashboard, navigate to `Settings` > `API Keys` and click `Create API Key`. Give it a name and create the key.\n",
    "3.  **Update `.env` file**: Copy the generated API key and add it to your `.env` file:\n",
    "    ```\n",
    "    SENDGRID_API_KEY=YOUR_API_KEY_HERE\n",
    "    ```\n",
    "4.  **Verify a Sender**: In SendGrid, go to `Settings` > `Sender Authentication`. You must verify a \"Single Sender\" (your own email address) from which SendGrid is allowed to send emails."
   ]
  },
  {
   "cell_type": "code",
   "execution_count": null,
   "metadata": {},
   "outputs": [],
   "source": [
    "# === Imports ===\n",
    "import os\n",
    "import asyncio\n",
    "from typing import Dict\n",
    "from dotenv import load_dotenv\n",
    "\n",
    "# OpenAI Agents SDK components\n",
    "from agents import Agent, Runner, trace, function_tool\n",
    "\n",
    "# SendGrid for sending emails\n",
    "import sendgrid\n",
    "from sendgrid.helpers.mail import Mail, Email, To, Content"
   ]
  },
  {
   "cell_type": "code",
   "execution_count": null,
   "metadata": {},
   "outputs": [],
   "source": [
    "load_dotenv(override=True)"
   ]
  },
  {
   "cell_type": "code",
   "execution_count": null,
   "metadata": {},
   "outputs": [],
   "source": [
    "# === Test SendGrid Configuration ===\n",
    "# Before proceeding, let's ensure your SendGrid setup is working correctly.\n",
    "\n",
    "def send_test_email():\n",
    "    # IMPORTANT: Replace these with your verified sender and recipient email addresses.\n",
    "    FROM_EMAIL = \"your-verified-sender@example.com\" \n",
    "    TO_EMAIL = \"your-recipient@example.com\"\n",
    "    \n",
    "    try:\n",
    "        sg = sendgrid.SendGridAPIClient(api_key=os.environ.get('SENDGRID_API_KEY'))\n",
    "        from_email = Email(FROM_EMAIL)\n",
    "        to_email = To(TO_EMAIL)\n",
    "        subject = \"SendGrid Test Email for Agentic AI Course\"\n",
    "        content = Content(\"text/plain\", \"This is a test email to confirm your SendGrid setup is working.\")\n",
    "        mail = Mail(from_email, to_email, subject, content)\n",
    "        response = sg.client.mail.send.post(request_body=mail.get())\n",
    "        \n",
    "        if response.status_code == 202:\n",
    "            print(f\"Test email sent successfully (Status Code: {response.status_code}). Please check your inbox!\")\n",
    "        else:\n",
    "            print(f\"Error sending email. Status Code: {response.status_code}. Body: {response.body}\")\n",
    "            \n",
    "    except Exception as e:\n",
    "        print(f\"An exception occurred: {e}\")\n",
    "        print(\"Please check your SENDGRID_API_KEY in the .env file and your verified sender email in SendGrid.\")\n",
    "\n",
    "# send_test_email() # Uncomment this line to run the test"
   ]
  },
  {
   "cell_type": "markdown",
   "metadata": {},
   "source": [
    "### Part 1: Agent Specialization and Parallel Execution\n",
    "\n",
    "We'll start by creating three distinct \"Sales Agents,\" each with a different personality for writing cold outreach emails. We'll then run them in parallel to generate three email drafts simultaneously."
   ]
  },
  {
   "cell_type": "code",
   "execution_count": null,
   "metadata": {},
   "outputs": [],
   "source": [
    "# === Define Agent Personas ===\n",
    "company_description = \"a company that provides a SaaS tool called 'ComplAI' for ensuring SOC2 compliance and preparing for audits, powered by AI.\"\n",
    "\n",
    "instructions1 = f\"You are a highly professional sales agent for {company_description} You write formal, serious, and benefit-driven cold emails.\"\n",
    "instructions2 = f\"You are a witty and engaging sales agent for {company_description} You write humorous, personable cold emails that are likely to get a response.\"\n",
    "instructions3 = f\"You are a busy, no-nonsense sales agent for {company_description} You write concise, to-the-point cold emails that respect the reader's time.\""
   ]
  },
  {
   "cell_type": "code",
   "execution_count": null,
   "metadata": {},
   "outputs": [],
   "source": [
    "# === Create a Team of Specialized Agents ===\n",
    "professional_agent = Agent(name=\"Professional_Sales_Agent\", instructions=instructions1, model=\"gpt-4o-mini\")\n",
    "engaging_agent = Agent(name=\"Engaging_Sales_Agent\", instructions=instructions2, model=\"gpt-4o-mini\")\n",
    "concise_agent = Agent(name=\"Busy_Sales_Agent\", instructions=instructions3, model=\"gpt-4o-mini\")"
   ]
  },
  {
   "cell_type": "code",
   "execution_count": null,
   "metadata": {},
   "outputs": [],
   "source": [
    "# === Run Agents in Parallel and Select the Best Output ===\n",
    "\n",
    "# Define an 'Evaluator' agent to pick the best email.\n",
    "picker_agent = Agent(\n",
    "    name=\"Email_Picker\",\n",
    "    instructions=\"You are a marketing manager. You will be given three draft emails. Your task is to select the single best one that is most likely to get a positive response from a busy executive. Do not explain your choice; reply only with the full text of the selected email.\",\n",
    "    model=\"gpt-4o-mini\"\n",
    ")\n",
    "\n",
    "async def generate_and_select_email(prompt: str):\n",
    "    with trace(\"Generate_and_Select_Email_Workflow\"):\n",
    "        # 1. Run all three sales agents in parallel.\n",
    "        print(\"--- Generating email drafts in parallel... ---\")\n",
    "        results = await asyncio.gather(\n",
    "            Runner.run(professional_agent, prompt),\n",
    "            Runner.run(engaging_agent, prompt),\n",
    "            Runner.run(concise_agent, prompt),\n",
    "        )\n",
    "        drafts = [result.final_output for result in results]\n",
    "\n",
    "        # 2. Prepare the drafts for the picker agent.\n",
    "        picker_prompt = \"Here are three email drafts. Please select the best one:\\n\\n---\\n\\nDRAFT 1:\\n\" + drafts[0] + \"\\n\\n---\\n\\nDRAFT 2:\\n\" + drafts[1] + \"\\n\\n---\\n\\nDRAFT 3:\\n\" + drafts[2]\n",
    "\n",
    "        # 3. Run the picker agent to select the best email.\n",
    "        print(\"--- Selecting the best draft... ---\")\n",
    "        best_email_result = await Runner.run(picker_agent, picker_prompt)\n",
    "        \n",
    "        print(\"\\n--- BEST EMAIL SELECTED ---\")\n",
    "        print(best_email_result.final_output)\n",
    "\n",
    "# await generate_and_select_email(\"Write a cold sales email to the CEO of a tech startup.\")"
   ]
  },
  {
   "cell_type": "markdown",
   "metadata": {},
   "source": [
    "### Part 2: Creating and Using Tools\n",
    "\n",
    "Now we'll introduce tools. We will create a tool from a Python function (`send_email`) and also convert our existing agents into tools that a manager agent can call upon."
   ]
  },
  {
   "cell_type": "code",
   "execution_count": null,
   "metadata": {},
   "outputs": [],
   "source": [
    "# === Create a Tool from a Python Function ===\n",
    "# The `@function_tool` decorator automatically converts this Python function\n",
    "# into a JSON schema that an LLM can understand and decide to call.\n",
    "\n",
    "@function_tool\n",
    "def send_email(body: str):\n",
    "    \"\"\"Sends an email with the given body to a predefined sales prospect.\"\"\"\n",
    "    print(f\"--- Sending Email Tool Called... ---\")\n",
    "    # IMPORTANT: Replace these with your verified sender and recipient email addresses.\n",
    "    FROM_EMAIL = \"your-verified-sender@example.com\"\n",
    "    TO_EMAIL = \"your-recipient@example.com\"\n",
    "    \n",
    "    sg = sendgrid.SendGridAPIClient(api_key=os.environ.get('SENDGRID_API_KEY'))\n",
    "    from_email = Email(FROM_EMAIL)\n",
    "    to_email = To(TO_EMAIL)\n",
    "    subject = \"A message from ComplAI\"\n",
    "    content = Content(\"text/plain\", body)\n",
    "    mail = Mail(from_email, to_email, subject, content)\n",
    "    sg.client.mail.send.post(request_body=mail.get())\n",
    "    print(\"--- Email Sent Successfully ---\")\n",
    "    return {\"status\": \"success\"}"
   ]
  },
  {
   "cell_type": "code",
   "execution_count": null,
   "metadata": {},
   "outputs": [],
   "source": [
    "# === Create Tools from Other Agents ===\n",
    "# The `.as_tool()` method allows one agent to become a callable tool for another agent.\n",
    "# This is how we build hierarchies and teams of agents.\n",
    "\n",
    "description = \"Writes a cold sales email draft from a specific personality. Use this to generate options.\"\n",
    "\n",
    "tool1 = professional_agent.as_tool(tool_name=\"professional_email_writer\", tool_description=description)\n",
    "tool2 = engaging_agent.as_tool(tool_name=\"engaging_email_writer\", tool_description=description)\n",
    "tool3 = concise_agent.as_tool(tool_name=\"concise_email_writer\", tool_description=description)\n",
    "\n",
    "# This is the list of all tools available to our manager agent.\n",
    "manager_tools = [tool1, tool2, tool3, send_email]"
   ]
  },
  {
   "cell_type": "markdown",
   "metadata": {},
   "source": [
    "### Part 3: Orchestration with a Manager Agent\n",
    "\n",
    "Now we create a \"Sales Manager\" agent. Its job is not to write emails itself, but to orchestrate the other agents and tools to complete a task."
   ]
  },
  {
   "cell_type": "code",
   "execution_count": null,
   "metadata": {},
   "outputs": [],
   "source": [
    "# === Define the Manager Agent ===\n",
    "manager_instructions = \"\"\"\n",
    "You are a Sales Manager at ComplAI. Your goal is to orchestrate the sending of the single best cold sales email.\n",
    "\n",
    "Follow these steps carefully:\n",
    "1.  **Generate Drafts**: Use all three email writer tools (`professional_email_writer`, `engaging_email_writer`, `concise_email_writer`) to generate three different email drafts. Do not proceed until you have all three drafts.\n",
    "2.  **Evaluate and Select**: Review the three drafts and choose the single best one based on your expert judgment of what is most effective.\n",
    "3.  **Send the Email**: Use the `send_email` tool to send ONLY the winning email draft.\n",
    "\n",
    "Crucial Rules:\n",
    "- You must use the writer tools to generate drafts; do not write them yourself.\n",
    "- You must send exactly ONE email using the `send_email` tool.\n",
    "\"\"\"\n",
    "\n",
    "sales_manager = Agent(\n",
    "    name=\"Sales_Manager\", \n",
    "    instructions=manager_instructions, \n",
    "    tools=manager_tools, \n",
    "    model=\"gpt-4o\"\n",
    ")\n",
    "\n",
    "async def run_manager_workflow(prompt: str):\n",
    "    with trace(\"Sales_Manager_Orchestration\"):\n",
    "        await Runner.run(sales_manager, prompt)\n",
    "\n",
    "# await run_manager_workflow(\"Send a cold sales email addressed to 'Dear CEO' from Alice at ComplAI.\")"
   ]
  },
  {
   "cell_type": "markdown",
   "metadata": {},
   "source": [
    "### Part 4: Delegation with Handoffs\n",
    "\n",
    "Handoffs are similar to tools but represent a more formal delegation of a task. Instead of calling a tool and getting a result back, the manager agent will hand off the final email body to a specialized \"Emailer Agent\" whose only job is to format and send it."
   ]
  },
  {
   "cell_type": "code",
   "execution_count": null,
   "metadata": {},
   "outputs": [],
   "source": [
    "# === Define a Specialized Emailer Agent ===\n",
    "\n",
    "# Create tools for the emailer agent to use.\n",
    "subject_writer = Agent(name=\"Subject_Writer\", instructions=\"You write compelling, concise subjects for cold sales emails.\", model=\"gpt-4o-mini\")\n",
    "subject_tool = subject_writer.as_tool(tool_name=\"subject_writer\", tool_description=\"Writes a subject for an email based on its body.\")\n",
    "\n",
    "html_converter = Agent(name=\"HTML_Converter\", instructions=\"You convert a plain text email body into a clean, professional HTML format.\", model=\"gpt-4o-mini\")\n",
    "html_tool = html_converter.as_tool(tool_name=\"html_converter\", tool_description=\"Converts a plain text email body to HTML.\")\n",
    "\n",
    "@function_tool\n",
    "def send_html_email(subject: str, html_body: str) -> Dict[str, str]:\n",
    "    \"\"\"Sends an email with a subject and HTML body.\"\"\"\n",
    "    print(\"--- Sending HTML Email Tool Called... ---\")\n",
    "    FROM_EMAIL = \"your-verified-sender@example.com\"\n",
    "    TO_EMAIL = \"your-recipient@example.com\"\n",
    "    sg = sendgrid.SendGridAPIClient(api_key=os.environ.get('SENDGRID_API_KEY'))\n",
    "    mail = Mail(Email(FROM_EMAIL), To(TO_EMAIL), subject, Content(\"text/html\", html_body))\n",
    "    sg.client.mail.send.post(request_body=mail.get())\n",
    "    print(\"--- HTML Email Sent Successfully ---\")\n",
    "    return {\"status\": \"success\"}\n",
    "\n",
    "# Define the Emailer Agent that uses these tools.\n",
    "emailer_instructions = \"\"\"You are an email formatting and sending specialist. You receive the body of an email. \n",
    "1. First, use the `subject_writer` tool to create a subject.\n",
    "2. Second, use the `html_converter` tool to format the body as HTML.\n",
    "3. Finally, use the `send_html_email` tool to send the email.\n",
    "\"\"\"\n",
    "emailer_agent = Agent(\n",
    "    name=\"Emailer_Agent\",\n",
    "    instructions=emailer_instructions,\n",
    "    tools=[subject_tool, html_tool, send_html_email],\n",
    "    model=\"gpt-4o\",\n",
    "    handoff_description=\"Takes a plain text email body, formats it, and sends it.\" # This description is key for the handoff.\n",
    ")"
   ]
  },
  {
   "cell_type": "code",
   "execution_count": null,
   "metadata": {},
   "outputs": [],
   "source": [
    "# === Define the Final Manager Agent with Handoffs ===\n",
    "\n",
    "# The manager's tools are now just the email writers.\n",
    "final_manager_tools = [tool1, tool2, tool3]\n",
    "# The manager's handoff is the entire emailer agent.\n",
    "final_manager_handoffs = [emailer_agent]\n",
    "\n",
    "final_manager_instructions = \"\"\"\n",
    "You are a Sales Manager at ComplAI. Your goal is to orchestrate the sending of the single best cold sales email.\n",
    "\n",
    "Follow these steps carefully:\n",
    "1.  **Generate Drafts**: Use all three email writer tools to generate three different email drafts.\n",
    "2.  **Evaluate and Select**: Review the drafts and choose the single best one.\n",
    "3.  **Handoff for Sending**: Pass ONLY the winning email draft to the 'Emailer_Agent'. The Emailer_Agent will handle all formatting and sending.\n",
    "\n",
    "Crucial Rules:\n",
    "- You must use the writer tools to generate drafts; do not write them yourself.\n",
    "- You must hand off exactly ONE email to the Emailer_Agent.\n",
    "\"\"\"\n",
    "\n",
    "final_sales_manager = Agent(\n",
    "    name=\"Final_Sales_Manager\",\n",
    "    instructions=final_manager_instructions,\n",
    "    tools=final_manager_tools,\n",
    "    handoffs=final_manager_handoffs,\n",
    "    model=\"gpt-4o\")\n",
    "\n",
    "async def run_final_workflow(prompt: str):\n",
    "    with trace(\"Full_Sales_Automation_with_Handoff\"):\n",
    "        await Runner.run(final_sales_manager, prompt)\n",
    "\n",
    "await run_final_workflow(\"Send a cold sales email to the CEO of a new startup from Alex at ComplAI.\")"
   ]
  },
  {
   "cell_type": "markdown",
   "metadata": {},
   "source": [
    "### Final Check\n",
    "\n",
    "Remember to check two places:\n",
    "\n",
    "1.  **The Trace**: [https://platform.openai.com/traces](https://platform.openai.com/traces) to see the full, step-by-step execution of the agent team.\n",
    "2.  **Your Email Inbox**: To see the final, formatted email!"
   ]
  }
 ],
 "metadata": {
  "kernelspec": {
   "display_name": ".venv",
   "language": "python",
   "name": "python3"
  },
  "language_info": {
   "codemirror_mode": {
    "name": "ipython",
    "version": 3
   },
   "file_extension": ".py",
   "mimetype": "text/x-python",
   "name": "python",
   "nbconvert_exporter": "python",
   "pygments_lexer": "ipython3",
   "version": "3.12.9"
  }
 },
 "nbformat": 4,
 "nbformat_minor": 2
}
