{
 "cells": [
  {
   "cell_type": "markdown",
   "metadata": {},
   "source": [
    "# Lab: Building a Deep Research Agent with Web Search\n",
    "\n",
    "This lab demonstrates a classic and highly valuable agentic use case: performing deep research on a given topic. We will construct a multi-agent workflow where different agents collaborate to plan search queries, execute them using a web search tool, and synthesize the findings into a comprehensive report."
   ]
  },
  {
   "cell_type": "markdown",
   "metadata": {},
   "source": [
    "### OpenAI's Hosted Tools: WebSearchTool\n",
    "\n",
    "The OpenAI Agents SDK provides several pre-built, hosted tools that agents can use out of the box. In this lab, we will use the `WebSearchTool`, which allows an agent to search the web to find up-to-date information.\n",
    "\n",
    "**Note on Cost**: Using the `WebSearchTool` incurs a small cost per call (check the [OpenAI pricing page](https://platform.openai.com/docs/pricing) for current rates). If cost is a concern, you can review the code without running the cells that execute the search."
   ]
  },
  {
   "cell_type": "code",
   "execution_count": null,
   "metadata": {},
   "outputs": [],
   "source": [
    "# === Imports ===\n",
    "import os\n",
    "import asyncio\n",
    "from typing import Dict\n",
    "from dotenv import load_dotenv\n",
    "from pydantic import BaseModel, Field\n",
    "from IPython.display import display, Markdown\n",
    "\n",
    "# Core SDK components\n",
    "from agents import Agent, Runner, trace, function_tool\n",
    "\n",
    "# The built-in tool for web searches\n",
    "from agents import WebSearchTool\n",
    "\n",
    "# SendGrid for our email tool\n",
    "import sendgrid\n",
    "from sendgrid.helpers.mail import Mail, Email, To, Content"
   ]
  },
  {
   "cell_type": "code",
   "execution_count": null,
   "metadata": {},
   "outputs": [],
   "source": [
    "load_dotenv(override=True)"
   ]
  },
  {
   "cell_type": "markdown",
   "metadata": {},
   "source": [
    "### The Research Workflow\n",
    "\n",
    "Our system will consist of four main agents, each with a specialized role:\n",
    "1.  **Planner Agent**: Creates a strategic plan of what to search for.\n",
    "2.  **Search Agent**: Executes a single web search based on a query.\n",
    "3.  **Writer Agent**: Synthesizes the search results into a detailed report.\n",
    "4.  **Email Agent**: Formats and sends the final report via email."
   ]
  },
  {
   "cell_type": "markdown",
   "metadata": {},
   "source": [
    "#### Agent 1: The Planner\n",
    "This agent takes the user's initial query and breaks it down into a series of specific, targeted search terms. We use a Pydantic model (`WebSearchPlan`) to ensure its output is a structured list of searches."
   ]
  },
  {
   "cell_type": "code",
   "execution_count": null,
   "metadata": {},
   "outputs": [],
   "source": [
    "# === Define Structured Output for the Planner ===\n",
    "class WebSearchItem(BaseModel):\n",
    "    reason: str = Field(description=\"A brief justification for why this specific search is necessary to answer the overall query.\")\n",
    "    query: str = Field(description=\"The exact search term to be used for the web search.\")\n",
    "\n",
    "class WebSearchPlan(BaseModel):\n",
    "    searches: list[WebSearchItem] = Field(description=\"A list of web search items that constitute the research plan.\")\n",
    "\n",
    "# === Define the Planner Agent ===\n",
    "PLANNER_INSTRUCTIONS = \"\"\"You are a helpful research assistant. Given a user's query, you will generate a research plan consisting of several web searches to perform. \n",
    "Your goal is to create a set of diverse and comprehensive search queries that will gather all the necessary information to answer the user's query fully.\"\"\"\n",
    "\n",
    "planner_agent = Agent(\n",
    "    name=\"PlannerAgent\",\n",
    "    instructions=PLANNER_INSTRUCTIONS,\n",
    "    model=\"gpt-4o-mini\",\n",
    "    output_type=WebSearchPlan, # Enforce structured output\n",
    ")"
   ]
  },
  {
   "cell_type": "markdown",
   "metadata": {},
   "source": [
    "#### Agent 2: The Searcher\n",
    "This agent's sole job is to take a single search query and use the `WebSearchTool` to find relevant information on the web."
   ]
  },
  {
   "cell_type": "code",
   "execution_count": null,
   "metadata": {},
   "outputs": [],
   "source": [
    "# === Define the Search Agent ===\n",
    "SEARCH_INSTRUCTIONS = \"\"\"You are a research assistant. You will be given a search term. Your task is to use the web search tool to find information on that term and produce a concise summary of the results. \n",
    "The summary should be a few paragraphs long and capture the main points succinctly. Ignore any fluff or irrelevant details.\"\"\"\n",
    "\n",
    "search_agent = Agent(\n",
    "    name=\"SearchAgent\",\n",
    "    instructions=SEARCH_INSTRUCTIONS,\n",
    "    tools=[WebSearchTool(search_context_size=\"low\")], # Provide the agent with the web search tool\n",
    "    model=\"gpt-4o-mini\",\n",
    ")"
   ]
  },
  {
   "cell_type": "markdown",
   "metadata": {},
   "source": [
    "#### Agent 3: The Writer\n",
    "This agent receives the collected research from all the searches and synthesizes it into a single, cohesive, and detailed report. Its output is also structured to include a summary and follow-up questions."
   ]
  },
  {
   "cell_type": "code",
   "execution_count": null,
   "metadata": {},
   "outputs": [],
   "source": [
    "# === Define Structured Output for the Writer ===\n",
    "class ReportData(BaseModel):\n",
    "    short_summary: str = Field(description=\"A brief, 2-3 sentence executive summary of the report's findings.\")\n",
    "    markdown_report: str = Field(description=\"The final, detailed report in Markdown format. Should be at least 1000 words.\")\n",
    "    follow_up_questions: list[str] = Field(description=\"A list of suggested topics or questions for further research.\")\n",
    "\n",
    "# === Define the Writer Agent ===\n",
    "WRITER_INSTRUCTIONS = \"\"\"You are a senior researcher tasked with writing a comprehensive report based on a user's query and a collection of research summaries. \n",
    "First, create a clear outline. Then, using the provided research, write a detailed, well-structured report in Markdown format. \n",
    "The report should be thorough, aiming for at least 1000 words.\"\"\"\n",
    "\n",
    "writer_agent = Agent(\n",
    "    name=\"WriterAgent\",\n",
    "    instructions=WRITER_INSTRUCTIONS,\n",
    "    model=\"gpt-4o\", # Use a more powerful model for high-quality writing\n",
    "    output_type=ReportData,\n",
    ")"
   ]
  },
  {
   "cell_type": "markdown",
   "metadata": {},
   "source": [
    "#### Agent 4: The Emailer\n",
    "This final agent takes the completed report and uses a `send_email` tool to mail it."
   ]
  },
  {
   "cell_type": "code",
   "execution_count": null,
   "metadata": {},
   "outputs": [],
   "source": [
    "# === Define the Email Tool and Agent ===\n",
    "@function_tool\n",
    "def send_email(subject: str, html_body: str) -> Dict[str, str]:\n",
    "    \"\"\"Sends an email with the given subject and HTML body.\"\"\"\n",
    "    FROM_EMAIL = \"your-verified-sender@example.com\"\n",
    "    TO_EMAIL = \"your-recipient@example.com\"\n",
    "    sg = sendgrid.SendGridAPIClient(api_key=os.environ.get('SENDGRID_API_KEY'))\n",
    "    mail = Mail(Email(FROM_EMAIL), To(TO_EMAIL), subject, Content(\"text/html\", html_body))\n",
    "    sg.client.mail.send.post(request_body=mail.get())\n",
    "    return {\"status\": \"success\"}\n",
    "\n",
    "EMAIL_INSTRUCTIONS = \"\"\"You are an administrative assistant. You will be provided with a detailed report. Your task is to send this report in a nicely formatted HTML email with an appropriate subject line.\"\"\"\n",
    "\n",
    "email_agent = Agent(\n",
    "    name=\"EmailAgent\",\n",
    "    instructions=EMAIL_INSTRUCTIONS,\n",
    "    tools=[send_email],\n",
    "    model=\"gpt-4o-mini\",\n",
    ")"
   ]
  },
  {
   "cell_type": "markdown",
   "metadata": {},
   "source": [
    "### Orchestrating the Workflow\n",
    "\n",
    "Now we create a set of `async` functions to manage the flow of information between our agents. This is the \"Plan and Execute\" pattern in action."
   ]
  },
  {
   "cell_type": "code",
   "execution_count": null,
   "metadata": {},
   "outputs": [],
   "source": [
    "# === Define the Orchestration Logic ===\n",
    "\n",
    "async def plan_searches(query: str) -> WebSearchPlan:\n",
    "    \"\"\"Step 1: Use the planner_agent to create a research plan.\"\"\"\n",
    "    print(\"--- 1. Planning searches... ---\")\n",
    "    result = await Runner.run(planner_agent, f\"Query: {query}\")\n",
    "    print(f\"Plan complete. Will perform {len(result.final_output.searches)} searches.\")\n",
    "    return result.final_output\n",
    "\n",
    "async def perform_searches(search_plan: WebSearchPlan) -> list[str]:\n",
    "    \"\"\"Step 2: Execute the search plan in parallel.\"\"\"\n",
    "    print(\"--- 2. Performing searches in parallel... ---\")\n",
    "    # Create a list of tasks to run concurrently\n",
    "    tasks = [asyncio.create_task(search_item(item)) for item in search_plan.searches]\n",
    "    # Wait for all search tasks to complete\n",
    "    results = await asyncio.gather(*tasks)\n",
    "    print(\"--- All searches complete. ---\")\n",
    "    return results\n",
    "\n",
    "async def search_item(item: WebSearchItem) -> str:\n",
    "    \"\"\"Helper function to run a single search with the search_agent.\"\"\"\n",
    "    input_prompt = f\"Search term: {item.query}\\nReason for searching: {item.reason}\"\n",
    "    result = await Runner.run(search_agent, input_prompt)\n",
    "    return result.final_output\n",
    "\n",
    "async def write_report(query: str, search_results: list[str]) -> ReportData:\n",
    "    \"\"\"Step 3: Use the writer_agent to synthesize the results into a report.\"\"\"\n",
    "    print(\"--- 3. Writing detailed report... ---\")\n",
    "    input_prompt = f\"Original query: {query}\\n\\nSummarized search results:\\n{'\\n---\\n'.join(search_results)}\"\n",
    "    result = await Runner.run(writer_agent, input_prompt)\n",
    "    print(\"--- Report finished. ---\")\n",
    "    return result.final_output\n",
    "\n",
    "async def email_report(report: ReportData):\n",
    "    \"\"\"Step 4: Use the email_agent to send the final report.\"\"\"\n",
    "    print(\"--- 4. Emailing report... ---\")\n",
    "    # The email agent needs a prompt to tell it what to do with the report.\n",
    "    email_prompt = f\"Please send the following report. The subject should be 'Research Report: {report.short_summary}'.\\n\\n{report.markdown_report}\"\n",
    "    await Runner.run(email_agent, email_prompt)\n",
    "    print(\"--- Email sent. ---\")"
   ]
  },
  {
   "cell_type": "markdown",
   "metadata": {},
   "source": [
    "### Showtime! Running the Full Research Workflow\n",
    "\n",
    "Finally, we'll execute the entire chain of functions to perform the research and get our report."
   ]
  },
  {
   "cell_type": "code",
   "execution_count": null,
   "metadata": {},
   "outputs": [],
   "source": [
    "# === Execute the Full Workflow ===\n",
    "query = \"What are the latest trends and frameworks in Agentic AI as of mid-2025?\"\n",
    "\n",
    "async def main():\n",
    "    with trace(\"Deep_Research_Workflow\"):\n",
    "        print(f\"--- Starting research for query: '{query}' ---\")\n",
    "        search_plan = await plan_searches(query)\n",
    "        search_results = await perform_searches(search_plan)\n",
    "        report = await write_report(query, search_results)\n",
    "        await email_report(report)  \n",
    "        print(\"\\n--- Workflow Complete! ---\")\n",
    "        display(Markdown(f\"## Research Report: {report.short_summary}\"))\n",
    "        display(Markdown(report.markdown_report))\n",
    "\n",
    "# Run the main asynchronous function\n",
    "await main()"
   ]
  },
  {
   "cell_type": "markdown",
   "metadata": {},
   "source": [
    "### Final Check\n",
    "\n",
    "Remember to check two places:\n",
    "\n",
    "1.  **The Trace**: [https://platform.openai.com/traces](https://platform.openai.com/traces) to see the full, step-by-step execution of the agent team.\n",
    "2.  **Your Email Inbox**: To see the final, formatted email containing the report!"
   ]
  }
 ],
 "metadata": {
  "kernelspec": {
   "display_name": ".venv",
   "language": "python",
   "name": "python3"
  },
  "language_info": {
   "codemirror_mode": {
    "name": "ipython",
    "version": 3
   },
   "file_extension": ".py",
   "mimetype": "text/x-python",
   "name": "python",
   "nbconvert_exporter": "python",
   "pygments_lexer": "ipython3",
   "version": "3.12.9"
  }
 },
 "nbformat": 4,
 "nbformat_minor": 2
}
